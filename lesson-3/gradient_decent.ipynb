{
  "nbformat": 4,
  "nbformat_minor": 0,
  "metadata": {
    "colab": {
      "provenance": []
    },
    "kernelspec": {
      "name": "python3",
      "display_name": "Python 3"
    },
    "language_info": {
      "name": "python"
    }
  },
  "cells": [
    {
      "cell_type": "code",
      "execution_count": null,
      "metadata": {
        "id": "peGV3Rpw_BLA"
      },
      "outputs": [],
      "source": [
        "import pandas as pd \n",
        "import numpy as np\n",
        "import matplotlib.pyplot as plt\n",
        "import math"
      ]
    },
    {
      "cell_type": "code",
      "source": [],
      "metadata": {
        "id": "MLOTyPORL34S"
      },
      "execution_count": null,
      "outputs": []
    },
    {
      "cell_type": "code",
      "source": [
        "def gradient_decent(x,y):\n",
        "  m_curr = b_curr = 0\n",
        "  rate = 0.5\n",
        "  n=len(x)\n",
        "  cost=0\n",
        "  for i in range(100):\n",
        "    y_pred = m_curr*x+b_curr\n",
        "    cost_pred=(1/n)*sum([value**2 for value in (y-y_pred)])\n",
        "    print(m_curr,b_curr,i)\n",
        "    md = -(2/n)*dot(x,y-y_pred)\n",
        "    bd = -(2/n)*sum(y-y_pred)\n",
        "\n",
        "    m_curr = m_curr +rate*md\n",
        "    b_curr = b_curr +rate*bd\n",
        "\n",
        "    if np.isclose(cost_pred,cost,rel_tol=1e-20):\n",
        "      break\n",
        "    cost = cost_pred\n",
        "    print(\"m{},b{},cost{},iteration{}\".format(m_curr,b_curr,cost_pred,i))\n"
      ],
      "metadata": {
        "id": "WBReO0jiH-mL"
      },
      "execution_count": null,
      "outputs": []
    },
    {
      "cell_type": "code",
      "source": [
        "x=np.array([2,3,4,6])\n",
        "y=np.array([3,4,5,9])\n",
        "\n",
        "gradient_decent(x,y)\n",
        "\n",
        "'''This is running but we make it easier for ignoring long output'''"
      ],
      "metadata": {
        "id": "mHYavrz2K-qs"
      },
      "execution_count": null,
      "outputs": []
    },
    {
      "cell_type": "code",
      "source": [
        "df = pd.read_csv('test_scores.csv')\n",
        "df"
      ],
      "metadata": {
        "colab": {
          "base_uri": "https://localhost:8080/",
          "height": 363
        },
        "id": "v0t1htgHNS0s",
        "outputId": "c36510eb-67ec-4b18-9058-38b8ca333633"
      },
      "execution_count": null,
      "outputs": [
        {
          "output_type": "execute_result",
          "data": {
            "text/plain": [
              "     name  math  cs\n",
              "0   david    92  98\n",
              "1   laura    56  68\n",
              "2  sanjay    88  81\n",
              "3     wei    70  80\n",
              "4    jeff    80  83\n",
              "5   aamir    49  52\n",
              "6  venkat    65  66\n",
              "7   virat    35  30\n",
              "8  arthur    66  68\n",
              "9    paul    67  73"
            ],
            "text/html": [
              "\n",
              "  <div id=\"df-a10c71a3-9182-49f6-a522-98e0f915d2ec\">\n",
              "    <div class=\"colab-df-container\">\n",
              "      <div>\n",
              "<style scoped>\n",
              "    .dataframe tbody tr th:only-of-type {\n",
              "        vertical-align: middle;\n",
              "    }\n",
              "\n",
              "    .dataframe tbody tr th {\n",
              "        vertical-align: top;\n",
              "    }\n",
              "\n",
              "    .dataframe thead th {\n",
              "        text-align: right;\n",
              "    }\n",
              "</style>\n",
              "<table border=\"1\" class=\"dataframe\">\n",
              "  <thead>\n",
              "    <tr style=\"text-align: right;\">\n",
              "      <th></th>\n",
              "      <th>name</th>\n",
              "      <th>math</th>\n",
              "      <th>cs</th>\n",
              "    </tr>\n",
              "  </thead>\n",
              "  <tbody>\n",
              "    <tr>\n",
              "      <th>0</th>\n",
              "      <td>david</td>\n",
              "      <td>92</td>\n",
              "      <td>98</td>\n",
              "    </tr>\n",
              "    <tr>\n",
              "      <th>1</th>\n",
              "      <td>laura</td>\n",
              "      <td>56</td>\n",
              "      <td>68</td>\n",
              "    </tr>\n",
              "    <tr>\n",
              "      <th>2</th>\n",
              "      <td>sanjay</td>\n",
              "      <td>88</td>\n",
              "      <td>81</td>\n",
              "    </tr>\n",
              "    <tr>\n",
              "      <th>3</th>\n",
              "      <td>wei</td>\n",
              "      <td>70</td>\n",
              "      <td>80</td>\n",
              "    </tr>\n",
              "    <tr>\n",
              "      <th>4</th>\n",
              "      <td>jeff</td>\n",
              "      <td>80</td>\n",
              "      <td>83</td>\n",
              "    </tr>\n",
              "    <tr>\n",
              "      <th>5</th>\n",
              "      <td>aamir</td>\n",
              "      <td>49</td>\n",
              "      <td>52</td>\n",
              "    </tr>\n",
              "    <tr>\n",
              "      <th>6</th>\n",
              "      <td>venkat</td>\n",
              "      <td>65</td>\n",
              "      <td>66</td>\n",
              "    </tr>\n",
              "    <tr>\n",
              "      <th>7</th>\n",
              "      <td>virat</td>\n",
              "      <td>35</td>\n",
              "      <td>30</td>\n",
              "    </tr>\n",
              "    <tr>\n",
              "      <th>8</th>\n",
              "      <td>arthur</td>\n",
              "      <td>66</td>\n",
              "      <td>68</td>\n",
              "    </tr>\n",
              "    <tr>\n",
              "      <th>9</th>\n",
              "      <td>paul</td>\n",
              "      <td>67</td>\n",
              "      <td>73</td>\n",
              "    </tr>\n",
              "  </tbody>\n",
              "</table>\n",
              "</div>\n",
              "      <button class=\"colab-df-convert\" onclick=\"convertToInteractive('df-a10c71a3-9182-49f6-a522-98e0f915d2ec')\"\n",
              "              title=\"Convert this dataframe to an interactive table.\"\n",
              "              style=\"display:none;\">\n",
              "        \n",
              "  <svg xmlns=\"http://www.w3.org/2000/svg\" height=\"24px\"viewBox=\"0 0 24 24\"\n",
              "       width=\"24px\">\n",
              "    <path d=\"M0 0h24v24H0V0z\" fill=\"none\"/>\n",
              "    <path d=\"M18.56 5.44l.94 2.06.94-2.06 2.06-.94-2.06-.94-.94-2.06-.94 2.06-2.06.94zm-11 1L8.5 8.5l.94-2.06 2.06-.94-2.06-.94L8.5 2.5l-.94 2.06-2.06.94zm10 10l.94 2.06.94-2.06 2.06-.94-2.06-.94-.94-2.06-.94 2.06-2.06.94z\"/><path d=\"M17.41 7.96l-1.37-1.37c-.4-.4-.92-.59-1.43-.59-.52 0-1.04.2-1.43.59L10.3 9.45l-7.72 7.72c-.78.78-.78 2.05 0 2.83L4 21.41c.39.39.9.59 1.41.59.51 0 1.02-.2 1.41-.59l7.78-7.78 2.81-2.81c.8-.78.8-2.07 0-2.86zM5.41 20L4 18.59l7.72-7.72 1.47 1.35L5.41 20z\"/>\n",
              "  </svg>\n",
              "      </button>\n",
              "      \n",
              "  <style>\n",
              "    .colab-df-container {\n",
              "      display:flex;\n",
              "      flex-wrap:wrap;\n",
              "      gap: 12px;\n",
              "    }\n",
              "\n",
              "    .colab-df-convert {\n",
              "      background-color: #E8F0FE;\n",
              "      border: none;\n",
              "      border-radius: 50%;\n",
              "      cursor: pointer;\n",
              "      display: none;\n",
              "      fill: #1967D2;\n",
              "      height: 32px;\n",
              "      padding: 0 0 0 0;\n",
              "      width: 32px;\n",
              "    }\n",
              "\n",
              "    .colab-df-convert:hover {\n",
              "      background-color: #E2EBFA;\n",
              "      box-shadow: 0px 1px 2px rgba(60, 64, 67, 0.3), 0px 1px 3px 1px rgba(60, 64, 67, 0.15);\n",
              "      fill: #174EA6;\n",
              "    }\n",
              "\n",
              "    [theme=dark] .colab-df-convert {\n",
              "      background-color: #3B4455;\n",
              "      fill: #D2E3FC;\n",
              "    }\n",
              "\n",
              "    [theme=dark] .colab-df-convert:hover {\n",
              "      background-color: #434B5C;\n",
              "      box-shadow: 0px 1px 3px 1px rgba(0, 0, 0, 0.15);\n",
              "      filter: drop-shadow(0px 1px 2px rgba(0, 0, 0, 0.3));\n",
              "      fill: #FFFFFF;\n",
              "    }\n",
              "  </style>\n",
              "\n",
              "      <script>\n",
              "        const buttonEl =\n",
              "          document.querySelector('#df-a10c71a3-9182-49f6-a522-98e0f915d2ec button.colab-df-convert');\n",
              "        buttonEl.style.display =\n",
              "          google.colab.kernel.accessAllowed ? 'block' : 'none';\n",
              "\n",
              "        async function convertToInteractive(key) {\n",
              "          const element = document.querySelector('#df-a10c71a3-9182-49f6-a522-98e0f915d2ec');\n",
              "          const dataTable =\n",
              "            await google.colab.kernel.invokeFunction('convertToInteractive',\n",
              "                                                     [key], {});\n",
              "          if (!dataTable) return;\n",
              "\n",
              "          const docLinkHtml = 'Like what you see? Visit the ' +\n",
              "            '<a target=\"_blank\" href=https://colab.research.google.com/notebooks/data_table.ipynb>data table notebook</a>'\n",
              "            + ' to learn more about interactive tables.';\n",
              "          element.innerHTML = '';\n",
              "          dataTable['output_type'] = 'display_data';\n",
              "          await google.colab.output.renderOutput(dataTable, element);\n",
              "          const docLink = document.createElement('div');\n",
              "          docLink.innerHTML = docLinkHtml;\n",
              "          element.appendChild(docLink);\n",
              "        }\n",
              "      </script>\n",
              "    </div>\n",
              "  </div>\n",
              "  "
            ]
          },
          "metadata": {},
          "execution_count": 27
        }
      ]
    },
    {
      "cell_type": "code",
      "source": [
        "x = np.array(df.math)\n",
        "x"
      ],
      "metadata": {
        "colab": {
          "base_uri": "https://localhost:8080/"
        },
        "id": "Qkw4JB4lNiIc",
        "outputId": "761f3728-5d3f-459b-aece-14b54e210d92"
      },
      "execution_count": null,
      "outputs": [
        {
          "output_type": "execute_result",
          "data": {
            "text/plain": [
              "array([92, 56, 88, 70, 80, 49, 65, 35, 66, 67])"
            ]
          },
          "metadata": {},
          "execution_count": 28
        }
      ]
    },
    {
      "cell_type": "code",
      "source": [
        "y = np.array(df.cs)\n",
        "y"
      ],
      "metadata": {
        "colab": {
          "base_uri": "https://localhost:8080/"
        },
        "id": "G7DEuO6QNprZ",
        "outputId": "ca71231b-e52a-4482-e49c-fd499284feb5"
      },
      "execution_count": null,
      "outputs": [
        {
          "output_type": "execute_result",
          "data": {
            "text/plain": [
              "array([98, 68, 81, 80, 83, 52, 66, 30, 68, 73])"
            ]
          },
          "metadata": {},
          "execution_count": 29
        }
      ]
    },
    {
      "cell_type": "code",
      "source": [
        "gradient_decent(x,y)"
      ],
      "metadata": {
        "colab": {
          "base_uri": "https://localhost:8080/"
        },
        "id": "4HecrXLzNveA",
        "outputId": "e165267b-db0e-4d1d-91c0-2b0926076d45"
      },
      "execution_count": null,
      "outputs": [
        {
          "output_type": "stream",
          "name": "stdout",
          "text": [
            "0 0 0\n",
            "m-4945.900000000001,b-69.9,cost5199.1,iteration0\n",
            "-4945.900000000001 -69.9 1\n",
            "m-23428451.720000006,b-330595.82000000007,cost115897893208.86604,iteration1\n",
            "-23428451.720000006 -330595.82000000007 2\n",
            "m-110955807640.87604,b-1565681836.4360003,cost2.5994915044927483e+18,iteration2\n",
            "-110955807640.87604 -1565681836.4360003 3\n",
            "m-525480336731167.9,b-7414979314153.289,cost5.830439101777599e+25,iteration3\n",
            "-525480336731167.9 -7414979314153.289 4\n",
            "m-2.488644715040271e+18,b-3.511691645227039e+16,cost1.307718069506466e+33,iteration4\n",
            "-2.488644715040271e+18 -3.511691645227039e+16 5\n",
            "m-1.1786078535734696e+22,b-1.6631170079759466e+20,cost2.933100782739214e+40,iteration5\n",
            "-1.1786078535734696e+22 -1.6631170079759466e+20 6\n",
            "m-5.581819148831707e+25,b-7.876426695886729e+23,cost6.578696434891505e+47,iteration6\n",
            "-5.581819148831707e+25 -7.876426695886729e+23 7\n",
            "m-2.6435175122750986e+29,b-3.7302304767587574e+27,cost1.4755458468097994e+55,iteration7\n",
            "-2.6435175122750986e+29 -3.7302304767587574e+27 8\n",
            "m-1.2519547214581066e+33,b-1.7666157442951173e+31,cost3.309524261509042e+62,iteration8\n",
            "-1.2519547214581066e+33 -1.7666157442951173e+31 9\n",
            "m-5.929185705421325e+36,b-8.366590770828743e+34,cost7.422982390684623e+69,iteration9\n",
            "-5.929185705421325e+36 -8.366590770828743e+34 10\n",
            "m-2.808028319780489e+40,b-3.962369369375612e+38,cost1.6649120302049032e+77,iteration10\n",
            "-2.808028319780489e+40 -3.962369369375612e+38 11\n",
            "m-1.329866095689936e+44,b-1.876555391487242e+42,cost3.734256559465387e+84,iteration11\n",
            "-1.329866095689936e+44 -1.876555391487242e+42 12\n",
            "m-6.29816950209336e+47,b-8.887258629991747e+45,cost8.375620933073611e+91,iteration12\n",
            "-6.29816950209336e+47 -8.887258629991747e+45 13\n",
            "m-2.9827769281176892e+51,b-4.2089546791243627e+49,cost1.8785807803356712e+99,iteration13\n",
            "-2.9827769281176892e+51 -4.2089546791243627e+49 14\n",
            "m-1.4126260336362916e+55,b-1.993336778918442e+53,cost4.2134974546317174e+106,iteration14\n",
            "-1.4126260336362916e+55 -1.993336778918442e+53 15\n",
            "m-6.69011581823616e+58,b-9.440328578248266e+56,cost9.450517638648309e+113,iteration15\n",
            "-6.69011581823616e+58 -9.440328578248266e+56 16\n",
            "m-3.168400453883849e+62,b-4.4708854322974046e+60,cost2.119671000162245e+121,iteration16\n",
            "-3.168400453883849e+62 -4.4708854322974046e+60 17\n",
            "m-1.5005362700608804e+66,b-2.1173856802808707e+64,cost4.7542423819775405e+128,iteration17\n",
            "-1.5005362700608804e+66 -2.1173856802808707e+64 18\n",
            "m-7.106453652372697e+69,b-1.0027817055367243e+68,cost1.066336267508562e+136,iteration18\n",
            "-7.106453652372697e+69 -1.0027817055367243e+68 19\n",
            "m-3.3655756625777707e+73,b-4.749116603196035e+71,cost2.391701861298712e+143,iteration19\n",
            "-3.3655756625777707e+73 -4.749116603196035e+71 20\n",
            "m-1.593917317219668e+77,b-2.2491543659225894e+75,cost5.364384545134862e+150,iteration20\n",
            "-1.593917317219668e+77 -2.2491543659225894e+75 21\n",
            "m-7.548700932151567e+80,b-1.0651865987759229e+79,cost1.2031859829074122e+158,iteration21\n",
            "-7.548700932151567e+80 -1.0651865987759229e+79 22\n",
            "m-3.5750214360217496e+84,b-5.0446625958748e+82,cost2.69864417303529e+165,iteration22\n",
            "-3.5750214360217496e+84 -5.0446625958748e+82 23\n",
            "m-1.693109633417703e+88,b-2.389123251781704e+86,cost6.052830132760726e+172,iteration23\n",
            "-1.693109633417703e+88 -2.389123251781704e+86 24\n",
            "m-8.018470048565014e+91,b-1.1314750597733822e+90,cost1.3575984926849096e+180,iteration24\n",
            "-8.018470048565014e+91 -1.1314750597733822e+90 25\n",
            "m-3.797501393335463e+95,b-5.358600942560976e+93,cost3.0449783438738322e+187,iteration25\n",
            "-3.797501393335463e+95 -5.358600942560976e+93 26\n",
            "m-1.798474864287305e+99,b-2.537802650936601e+97,cost6.829628321348302e+194,iteration26\n",
            "-1.798474864287305e+99 -2.537802650936601e+97 27\n",
            "m-8.517473734571213e+102,b-1.201888769874107e+101,cost1.5318277419478266e+202,iteration27\n",
            "-8.517473734571213e+102 -1.201888769874107e+101 28\n",
            "m-4.033826675017745e+106,b-5.692076232233319e+104,cost3.4357597816358636e+209,iteration28\n",
            "-4.033826675017745e+106 -5.692076232233319e+104 29\n",
            "m-1.910397161313215e+110,b-2.6957346341583e+108,cost7.706117962125649e+216,iteration29\n",
            "-1.910397161313215e+110 -2.6957346341583e+108 30\n",
            "m-9.047531309553691e+113,b-1.2766844506840594e+112,cost1.7284169389141934e+224,iteration30\n",
            "-9.047531309553691e+113 -1.2766844506840594e+112 31\n",
            "m-4.2848589002867293e+117,b-6.046304283683233e+115,cost3.876692686782415e+231,iteration31\n",
            "-4.2848589002867293e+117 -6.046304283683233e+115 32\n",
            "m-2.0292845824119161e+121,b-2.8634950062482716e+119,cost8.695093093217108e+238,iteration32\n",
            "-2.0292845824119161e+121 -2.8634950062482716e+119 33\n",
            "m-9.610575312384597e+124,b-1.3561348000524103e+123,cost1.9502356778881623e+246,iteration33\n",
            "-9.610575312384597e+124 -1.3561348000524103e+123 34\n",
            "m-4.5515133084605425e+128,b-6.422576578273016e+126,cost4.3742133160999526e+253,iteration34\n",
            "-4.5515133084605425e+128 -6.422576578273016e+126 35\n",
            "m-2.1555705796714955e+132,b-3.041695405367297e+130,cost9.810989693033085e+260,iteration35\n",
            "-2.1555705796714955e+132 -3.041695405367297e+130 36\n",
            "m-1.0208658547275318e+136,b-1.4405294863016325e+134,cost2.2005218264623364e+268,iteration36\n",
            "-1.0208658547275318e+136 -1.4405294863016325e+134 37\n",
            "m-4.834762095831713e+139,b-6.822264968552516e+137,cost4.9355839321447024e+275,iteration37\n",
            "-4.834762095831713e+139 -6.822264968552516e+137 38\n",
            "m-2.289715579676216e+143,b-3.230985533009295e+141,cost1.1070096400910157e+283,iteration38\n",
            "-2.289715579676216e+143 -3.230985533009295e+141 39\n",
            "m-1.0843961568102934e+147,b-1.5301762043303144e+145,cost2.4829287883711995e+290,iteration39\n",
            "-1.0843961568102934e+147 -1.5301762043303144e+145 40\n",
            "m-5.1356379602012325e+150,b-7.246826679901422e+148,cost5.568998809816693e+297,iteration40\n",
            "-5.1356379602012325e+150 -7.246826679901422e+148 41\n",
            "m-2.4322086621775015e+154,b-3.4320555227504033e+152,cost1.2490792280871154e+305,iteration41\n",
            "-2.4322086621775015e+154 -3.4320555227504033e+152 42\n",
            "m-1.1518800628499667e+158,b-1.6254017974391214e+156,costinf,iteration42\n",
            "-1.1518800628499667e+158 -1.6254017974391214e+156 43\n"
          ]
        },
        {
          "output_type": "stream",
          "name": "stderr",
          "text": [
            "<ipython-input-25-6c9d227f7ace>:8: RuntimeWarning: overflow encountered in double_scalars\n",
            "  cost_pred=(1/n)*sum([value**2 for value in (y-y_pred)])\n"
          ]
        }
      ]
    }
  ]
}